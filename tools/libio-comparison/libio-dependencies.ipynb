{
 "cells": [
  {
   "cell_type": "code",
   "execution_count": 1,
   "metadata": {},
   "outputs": [
    {
     "name": "stderr",
     "output_type": "stream",
     "text": [
      "C:\\Users\\joaki\\AppData\\Local\\Packages\\PythonSoftwareFoundation.Python.3.9_qbz5n2kfra8p0\\LocalCache\\local-packages\\Python39\\site-packages\\IPython\\core\\interactiveshell.py:3437: DtypeWarning: Columns (9) have mixed types.Specify dtype option on import or set low_memory=False.\n",
      "  exec(code_obj, self.user_global_ns, self.user_ns)\n"
     ]
    }
   ],
   "source": [
    "# Inspiration on reading in Chunks from: https://pythonspeed.com/articles/chunking-pandas/\n",
    "# and https://towardsdatascience.com/why-and-how-to-use-pandas-with-large-data-9594dda2ea4c\n",
    "\n",
    "import pandas as pd\n",
    "\n",
    "FILE_PATH = 'in/dependencies-1.6.0-2020-01-12.csv'\n",
    "\n",
    "df_chunk = pd.read_csv(FILE_PATH, chunksize=100000) #nrows=2\n",
    "\n",
    "chunk_list = [] \n",
    "\n",
    "\n",
    "def _apply_filer(df, target):\n",
    "    df = df[['Platform','Project Name', 'Dependency Name', 'Dependency Kind', 'Version Number']]\n",
    "    return df[df['Platform'] == target]\n",
    "\n",
    "def chunks_df(platform):\n",
    "    for chunk in df_chunk:  \n",
    "        chunk_filter = _apply_filer(chunk, platform)\n",
    "        chunk_list.append(chunk_filter)\n",
    "        \n",
    "    df_concat = pd.concat(chunk_list)\n",
    "    df_concat.to_csv(f'out/dep-libio-{platform}.csv', index=False)\n",
    "\n",
    "chunks_df('Cargo')\n"
   ]
  },
  {
   "cell_type": "code",
   "execution_count": 115,
   "metadata": {},
   "outputs": [
    {
     "data": {
      "text/html": [
       "<div>\n",
       "<style scoped>\n",
       "    .dataframe tbody tr th:only-of-type {\n",
       "        vertical-align: middle;\n",
       "    }\n",
       "\n",
       "    .dataframe tbody tr th {\n",
       "        vertical-align: top;\n",
       "    }\n",
       "\n",
       "    .dataframe thead th {\n",
       "        text-align: right;\n",
       "    }\n",
       "</style>\n",
       "<table border=\"1\" class=\"dataframe\">\n",
       "  <thead>\n",
       "    <tr style=\"text-align: right;\">\n",
       "      <th></th>\n",
       "      <th>ID</th>\n",
       "      <th>Platform</th>\n",
       "      <th>Project Name</th>\n",
       "      <th>Project ID</th>\n",
       "      <th>Version Number</th>\n",
       "      <th>Version ID</th>\n",
       "      <th>Dependency Name</th>\n",
       "      <th>Dependency Platform</th>\n",
       "      <th>Dependency Kind</th>\n",
       "      <th>Optional Dependency</th>\n",
       "      <th>Dependency Requirements</th>\n",
       "      <th>Dependency Project ID</th>\n",
       "    </tr>\n",
       "  </thead>\n",
       "  <tbody>\n",
       "    <tr>\n",
       "      <th>0</th>\n",
       "      <td>8737</td>\n",
       "      <td>Dub</td>\n",
       "      <td>a4g</td>\n",
       "      <td>197</td>\n",
       "      <td>0.1.0</td>\n",
       "      <td>2</td>\n",
       "      <td>a4g:client</td>\n",
       "      <td>Dub</td>\n",
       "      <td>runtime</td>\n",
       "      <td>False</td>\n",
       "      <td>*</td>\n",
       "      <td>NaN</td>\n",
       "    </tr>\n",
       "    <tr>\n",
       "      <th>1</th>\n",
       "      <td>8738</td>\n",
       "      <td>Dub</td>\n",
       "      <td>a4g</td>\n",
       "      <td>197</td>\n",
       "      <td>0.1.0</td>\n",
       "      <td>2</td>\n",
       "      <td>a4g:server</td>\n",
       "      <td>Dub</td>\n",
       "      <td>runtime</td>\n",
       "      <td>False</td>\n",
       "      <td>*</td>\n",
       "      <td>NaN</td>\n",
       "    </tr>\n",
       "  </tbody>\n",
       "</table>\n",
       "</div>"
      ],
      "text/plain": [
       "     ID Platform Project Name  Project ID Version Number  Version ID  \\\n",
       "0  8737      Dub          a4g         197          0.1.0           2   \n",
       "1  8738      Dub          a4g         197          0.1.0           2   \n",
       "\n",
       "  Dependency Name Dependency Platform Dependency Kind  Optional Dependency  \\\n",
       "0      a4g:client                 Dub         runtime                False   \n",
       "1      a4g:server                 Dub         runtime                False   \n",
       "\n",
       "  Dependency Requirements  Dependency Project ID  \n",
       "0                       *                    NaN  \n",
       "1                       *                    NaN  "
      ]
     },
     "execution_count": 115,
     "metadata": {},
     "output_type": "execute_result"
    }
   ],
   "source": [
    "df_chunk2 = pd.read_csv(FILE_PATH, nrows=2) #nrows=2\n",
    "df_chunk2\n"
   ]
  },
  {
   "cell_type": "code",
   "execution_count": 22,
   "metadata": {},
   "outputs": [
    {
     "name": "stdout",
     "output_type": "stream",
     "text": [
      "NPM          154914774.0\n",
      "Packagist      8987304.0\n",
      "Maven          7324121.0\n",
      "NuGet          6596591.0\n",
      "Rubygems       5732633.0\n",
      "CPAN           2421659.0\n",
      "Pypi           2018342.0\n",
      "Cargo          1027098.0\n",
      "CRAN            520065.0\n",
      "Pub             326516.0\n",
      "Atom            285882.0\n",
      "Hex              98110.0\n",
      "Puppet           77659.0\n",
      "Dub              21455.0\n",
      "Elm              19130.0\n",
      "Haxelib           7596.0\n",
      "Homebrew          5348.0\n",
      "Conda             4279.0\n",
      "Name: Platform, dtype: float64\n"
     ]
    }
   ],
   "source": [
    "import pandas\n",
    "\n",
    "result = None\n",
    "for chunk in pandas.read_csv(FILE_PATH, chunksize=1000):\n",
    "    voters_street = chunk[\n",
    "        \"Platform\"]\n",
    "    chunk_result = voters_street.value_counts()\n",
    "    if result is None:\n",
    "        result = chunk_result\n",
    "    else:\n",
    "        result = result.add(chunk_result, fill_value=0)\n",
    "\n",
    "result.sort_values(ascending=False, inplace=True)\n",
    "print(result) # adds up to the total 194m rows"
   ]
  },
  {
   "cell_type": "code",
   "execution_count": 2,
   "metadata": {},
   "outputs": [
    {
     "name": "stdout",
     "output_type": "stream",
     "text": [
      "Checking Cargo\n",
      "Total dependencies DaSEA : 4022415, Libraries io: 1027098\n"
     ]
    },
    {
     "name": "stderr",
     "output_type": "stream",
     "text": [
      "<ipython-input-2-bb75fa31474e>:26: DtypeWarning: Columns (17) have mixed types.Specify dtype option on import or set low_memory=False.\n",
      "  shared_packages = _get_shared_packages_sample(ECOSYS)\n"
     ]
    },
    {
     "name": "stdout",
     "output_type": "stream",
     "text": [
      "DaSEA and Cargo shares 34660\n"
     ]
    }
   ],
   "source": [
    "import pandas as pd\n",
    "\n",
    "ECOSYS = 'Cargo'\n",
    "print(f\"Checking {ECOSYS}\")\n",
    "\n",
    "def _get_frames(target):\n",
    "    ltarget = target.lower()\n",
    "    df = pd.read_csv(f\"in/{ltarget}_dependencies_05-17-2022.csv\")\n",
    "    df_libio = pd.read_csv(f'out/dep-libio-{target}.csv')\n",
    "    return df, df_libio\n",
    "\n",
    "    \n",
    "df, df_libio = _get_frames(ECOSYS) #Enter case sensitive Libraries io naming\n",
    "print(f\"Total dependencies DaSEA : {len(df)}, Libraries io: {len(df_libio)}\")\n",
    "\n",
    "# Get packages that we share to only look at those dependencies\n",
    "def _get_shared_packages_sample(target):\n",
    "    packages_df = pd.read_csv(f'in/{target}_packages_05-17-2022.csv')\n",
    "    packages_libio_df = pd.read_csv('in/projects-1.6.0-2020-01-12.csv')\n",
    "    names_dasea = packages_df['name'].str.lower()\n",
    "    names_libio = packages_libio_df[packages_libio_df['Platform'] == f'{target}']['Name'].str.lower()\n",
    "    res = names_libio[names_libio.isin(names_dasea)]\n",
    "    print(f\"DaSEA and {target} shares {len(res)}\") # Cargo 3.4660 = 35635 - 975 (Correct)\n",
    "    return res\n",
    "\n",
    "shared_packages = _get_shared_packages_sample(ECOSYS)"
   ]
  },
  {
   "cell_type": "code",
   "execution_count": 174,
   "metadata": {},
   "outputs": [],
   "source": [
    "# Get one sample package of the packcages shared\n",
    "sample = shared_packages.sample(1)"
   ]
  },
  {
   "cell_type": "code",
   "execution_count": 175,
   "metadata": {},
   "outputs": [
    {
     "name": "stdout",
     "output_type": "stream",
     "text": [
      "graphy_static_util\n",
      "Libraries:\n",
      "graphy_error: [v0.2.0 runtime]\n",
      "\n",
      "DaSEA:\n",
      "graphy_error: [v0.2.0 ^0.2 NORMAL] \n"
     ]
    }
   ],
   "source": [
    "# Get dependencies for those packages in Libraries\n",
    "deps_libio = df_libio[df_libio['Project Name'].isin(sample)].sort_values('Dependency Name')\n",
    "deps_libio.to_csv('out/dep_sample_libio.csv', index=False)\n",
    "\n",
    "# Get a list of the unique packages that sample package is dependent on\n",
    "uniq_libio = deps_libio['Dependency Name'].unique()\n",
    "print(sample.values[0])\n",
    "\n",
    "print(\"Libraries:\")\n",
    "\n",
    "# For each unique package, get its dependencies the version and kind for that sample package\n",
    "for e in uniq_libio:\n",
    "    # print(f\"{e}\") # {deps_libio[deps_libio['Dependency Name'] == f'{e}']['Version Number'].to_list()}\")\n",
    "    v_df = deps_libio[deps_libio['Dependency Name'] == f'{e}']\n",
    "    v_lst = v_df['Version Number'].to_list()\n",
    "    v_lst.sort(reverse=True)\n",
    "    info = \"\"\n",
    "    counter = 0\n",
    "    for i in v_lst:\n",
    "        if counter >= 2:\n",
    "            continue\n",
    "        k = v_df[v_df['Version Number'] == f'{i}']['Dependency Kind'].values\n",
    "        info += f\"[v{i} {k[0]}]\"\n",
    "        counter += 1\n",
    "    print(f\"{e}: {info}\")\n",
    "\n",
    "\n",
    "deps_libio[deps_libio['Dependency Name'] == 'hyper']['Version Number'].to_list() #['Version Number', 'Dependency Name']\n",
    "\n",
    "deps_dasea = df[df['source_name'].isin(sample)].sort_values('target_name')\n",
    "deps_dasea.to_csv('out/dep_sample_dasea.csv', index=False)\n",
    "uniq_dasea = deps_dasea['target_name'].unique()\n",
    "\n",
    "print()\n",
    "\n",
    "print(\"DaSEA:\")\n",
    "for e in uniq_dasea:\n",
    "    # print(f\"{e}\") #: {deps_dasea[deps_dasea['target_name'] == f'{e}']['source_version'].to_list()}\")\n",
    "\n",
    "    v_df = deps_dasea[deps_dasea['target_name'] == f'{e}']\n",
    "    v_lst = v_df['source_version'].to_list()\n",
    "    v_lst.sort(reverse=True)\n",
    "    info = \"\"\n",
    "    counter = 0\n",
    "    for i in v_lst:\n",
    "        if counter >= 2:\n",
    "            continue\n",
    "        k = v_df[v_df['source_version'] == f'{i}']['kind'].values\n",
    "        vv = v_df[v_df['source_version'] == f'{i}']['target_version'].values\n",
    "        info += f\"[v{i} {vv[0]} {k[-1]}] \" #i + \" (\" + k[0] + \") \" + \" \"\n",
    "        counter += 1\n",
    "    print(f\"{e}: {info}\")\n"
   ]
  },
  {
   "cell_type": "code",
   "execution_count": 176,
   "metadata": {},
   "outputs": [
    {
     "name": "stdout",
     "output_type": "stream",
     "text": [
      "In total they share dependencies between 1 packages\n",
      "graphy_error\n",
      "\n",
      "DaSEA has dependency not in libraries:\n",
      "\n",
      "Libraries has dependency not in DaSEA:\n"
     ]
    }
   ],
   "source": [
    "def _intersection(lst1, lst2):\n",
    "    return list(set(lst1) & set(lst2))\n",
    "\n",
    "def _symmetric_difference(lst1, lst2):\n",
    "    for x in lst1:\n",
    "        if x not in lst2:\n",
    "            print(x)\n",
    "\n",
    "dl_intr = _intersection(uniq_libio, uniq_dasea)\n",
    "\n",
    "print(f\"In total they share dependencies between {len(dl_intr)} packages\")\n",
    "\n",
    "for e in dl_intr:\n",
    "    print(e)\n",
    "\n",
    "print()\n",
    "print(f\"DaSEA has dependency not in libraries:\")\n",
    "_symmetric_difference(uniq_dasea, uniq_libio)\n",
    "\n",
    "\n",
    "print()\n",
    "print(f\"Libraries has dependency not in DaSEA:\")\n",
    "_symmetric_difference(uniq_libio, uniq_dasea)"
   ]
  }
 ],
 "metadata": {
  "kernelspec": {
   "display_name": "Python 3.9.13 64-bit (windows store)",
   "language": "python",
   "name": "python3"
  },
  "language_info": {
   "codemirror_mode": {
    "name": "ipython",
    "version": 3
   },
   "file_extension": ".py",
   "mimetype": "text/x-python",
   "name": "python",
   "nbconvert_exporter": "python",
   "pygments_lexer": "ipython3",
   "version": "3.9.13"
  },
  "orig_nbformat": 4,
  "vscode": {
   "interpreter": {
    "hash": "1a0b1d0af6f017ee10c78047a7fa8697892dba340feaf876926930969e5cb860"
   }
  }
 },
 "nbformat": 4,
 "nbformat_minor": 2
}
