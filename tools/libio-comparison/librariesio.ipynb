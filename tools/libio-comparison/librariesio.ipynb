{
 "cells": [
  {
   "cell_type": "code",
   "execution_count": 24,
   "metadata": {},
   "outputs": [],
   "source": [
    "import pandas as pd\n"
   ]
  },
  {
   "cell_type": "code",
   "execution_count": 25,
   "metadata": {},
   "outputs": [],
   "source": [
    "df = pd.read_csv(\"in/projects-1.6.0-2020-01-12.csv\")\n",
    "df.groupby('Platform').size().sort_values(ascending=False)\n",
    "df[df['Platform'] == 'Nimble'].to_csv('in/nimble_libio.csv')\n",
    "\n"
   ]
  },
  {
   "cell_type": "code",
   "execution_count": 26,
   "metadata": {},
   "outputs": [],
   "source": [
    "nim_df = pd.read_csv(\"in/nimble_packages_05-17-2022.csv\")\n",
    "nim_libio_df = pd.read_csv('in/nimble_libio.csv')"
   ]
  },
  {
   "cell_type": "code",
   "execution_count": 27,
   "metadata": {},
   "outputs": [],
   "source": [
    "def to_lower(x):\n",
    "      return x.lower()\n",
    "\n",
    "nimlib_names = nim_libio_df[nim_libio_df['Platform'] == 'Nimble']['Name'].apply(to_lower)\n",
    "dasea_names = nim_df['name'].apply(to_lower)"
   ]
  },
  {
   "cell_type": "code",
   "execution_count": 28,
   "metadata": {},
   "outputs": [],
   "source": [
    "len(cargo_libio_df)"
   ]
  },
  {
   "cell_type": "code",
   "execution_count": 7,
   "metadata": {},
   "outputs": [
    {
     "name": "stdout",
     "output_type": "stream",
     "text": [
      "0                 acorn\n",
      "1                     a\n",
      "2                acacia\n",
      "3        abort_on_panic\n",
      "4            adamantium\n",
      "              ...      \n",
      "35630      cargo-parcel\n",
      "35631             pword\n",
      "35632            ranges\n",
      "35633            mdpage\n",
      "35634      python-input\n",
      "Name: Name, Length: 35635, dtype: object\n"
     ]
    }
   ],
   "source": [
    "def to_lower(x):\n",
    "      return x.lower()\n",
    "\n",
    "cargo_names = cargo_libio_df[cargo_libio_df['Platform'] == 'Cargo']['Name'].str.lower()\n",
    "dasea_names_cargo = cargo_df['name'].str.lower()\n",
    "print(cargo_names)"
   ]
  },
  {
   "cell_type": "code",
   "execution_count": null,
   "metadata": {},
   "outputs": [],
   "source": [
    "# returns packages that exist in Libraries.io and NOT in DaSEA dataset\n",
    "nimlib_names[~nimlib_names.isin(dasea_names)].sample(20).to_csv('out/val-inlib-not-dasea.csv', index=False)"
   ]
  },
  {
   "cell_type": "code",
   "execution_count": 29,
   "metadata": {},
   "outputs": [],
   "source": [
    "# returns packages that exist in DaSEA dataset and NOT in Libraries.io\n",
    "dasea_names[~dasea_names.isin(nimlib_names)].sample(20).to_csv('out/val-indasea-not-lib.csv', index=False)"
   ]
  }
 ],
 "metadata": {
  "kernelspec": {
   "display_name": "Python 3.9.7 ('base')",
   "language": "python",
   "name": "python3"
  },
  "language_info": {
   "codemirror_mode": {
    "name": "ipython",
    "version": 3
   },
   "file_extension": ".py",
   "mimetype": "text/x-python",
   "name": "python",
   "nbconvert_exporter": "python",
   "pygments_lexer": "ipython3",
   "version": "3.9.7"
  },
  "orig_nbformat": 4,
  "vscode": {
   "interpreter": {
    "hash": "363e5e17394f26523e9503e687d06e4beb3e7aca0283ccb1e19d3f9199e798f2"
   }
  }
 },
 "nbformat": 4,
 "nbformat_minor": 2
}
