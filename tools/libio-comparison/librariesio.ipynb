{
 "cells": [
  {
   "cell_type": "code",
   "execution_count": 2,
   "metadata": {},
   "outputs": [],
   "source": [
    "import pandas as pd\n"
   ]
  },
  {
   "cell_type": "code",
   "execution_count": 27,
   "metadata": {},
   "outputs": [
    {
     "name": "stderr",
     "output_type": "stream",
     "text": [
      "/opt/homebrew/lib/python3.9/site-packages/IPython/core/interactiveshell.py:3361: DtypeWarning: Columns (17) have mixed types.Specify dtype option on import or set low_memory=False.\n",
      "  exec(code_obj, self.user_global_ns, self.user_ns)\n"
     ]
    },
    {
     "data": {
      "text/plain": [
       "Platform\n",
       "Go            1818666\n",
       "NPM           1275082\n",
       "Packagist      313278\n",
       "Pypi           231690\n",
       "NuGet          199447\n",
       "Maven          184871\n",
       "Rubygems       161608\n",
       "Bower           69685\n",
       "CocoaPods       68060\n",
       "Wordpress       65577\n",
       "CPAN            37492\n",
       "Cargo           35635\n",
       "Clojars         24295\n",
       "CRAN            16695\n",
       "Hackage         14471\n",
       "Meteor          13410\n",
       "Atom            12847\n",
       "Pub             10111\n",
       "Hex              9452\n",
       "PlatformIO       6700\n",
       "Puppet           6432\n",
       "Emacs            4869\n",
       "Homebrew         4702\n",
       "SwiftPM          4207\n",
       "Carthage         3880\n",
       "Julia            3048\n",
       "Sublime          2005\n",
       "Dub              1903\n",
       "Conda            1859\n",
       "Racket           1679\n",
       "Elm              1505\n",
       "Haxelib          1424\n",
       "Nimble           1200\n",
       "Jam               772\n",
       "Alcatraz          464\n",
       "PureScript        384\n",
       "Inqlude           224\n",
       "Shards             33\n",
       "dtype: int64"
      ]
     },
     "execution_count": 27,
     "metadata": {},
     "output_type": "execute_result"
    }
   ],
   "source": [
    "df = pd.read_csv(\"in/projects-1.6.0-2020-01-12.csv\")\n",
    "df.groupby('Platform').size().sort_values(ascending=False)\n",
    "# df[df['Platform'] == 'Nimble'].to_csv('in/nimble_libio.csv')\n",
    "\n"
   ]
  },
  {
   "cell_type": "code",
   "execution_count": 11,
   "metadata": {},
   "outputs": [],
   "source": [
    "nim_df = pd.read_csv(\"in/nimble_packages_05-17-2022.csv\")\n",
    "nim_libio_df = pd.read_csv('in/nimble_libio.csv')"
   ]
  },
  {
   "cell_type": "code",
   "execution_count": null,
   "metadata": {},
   "outputs": [],
   "source": [
    "def to_lower(x):\n",
    "      return x.lower()\n",
    "\n",
    "nimlib_names = df[df['Platform'] == 'Nimble']['Name'].apply(to_lower)\n",
    "dasea_names = nim_df['name'].apply(to_lower)"
   ]
  },
  {
   "cell_type": "code",
   "execution_count": 23,
   "metadata": {},
   "outputs": [
    {
     "name": "stdout",
     "output_type": "stream",
     "text": [
      "['chipmunk', 'easy-bcrypt', 'libtcod-nim', 'monad', 'nim-ao', 'nim-glfw', 'nim-libclang', 'nim-nanomsg', 'nim-locale', 'nim-ogg', 'nim-portaudio', 'nim-sndfile', 'nim-vorbis', 'nimepak', 'nimlibpng', 'objcbridge', 'nimsuggest', 'nim-geocoding', 'nim-heap', 'nim-stringinterpolation', 'nanovg.nim', 'vardene', 'ni', 'nimlog', 'nimyaml', 'registry', 'minim', 'bonegpio', 'fractions', 'pudge', 'libserialport', 'libspdk', 'websockets', 'storage', 'nimcalcal', 'monero', 'clblas', 'evmjit', 'ethereum_trie', 'mpint', 'msqueue', 'morpheus', 'websitecreator', 'ec_events', 'nimtorch', 'asyncdispatch2', 'oids', 'smtp', 'cookies', 'fancygl', 'cyclic-polynomial-hash', 'netpipe', 'closure_methods', 'quickjs.nim', 'cirru-parser', 'saya']\n"
     ]
    }
   ],
   "source": [
    "# returns packages that exist in Libraries.io and NOT in DaSEA dataset\n",
    "libio_pkgs_not_in_dasea = nimlib_names[~nimlib_names.isin(dasea_names)]"
   ]
  },
  {
   "cell_type": "code",
   "execution_count": 25,
   "metadata": {},
   "outputs": [
    {
     "name": "stdout",
     "output_type": "stream",
     "text": [
      "0       periapsisengine\n",
      "1               niprefs\n",
      "2              lrparser\n",
      "3                py2nim\n",
      "4          rangequeries\n",
      "             ...       \n",
      "1871              blarg\n",
      "1872            limiter\n",
      "1873           supranim\n",
      "1874            leopard\n",
      "1875            emitter\n",
      "Name: name, Length: 734, dtype: object\n"
     ]
    }
   ],
   "source": [
    "# returns packages that exist in DaSEA dataset and NOT in Libraries.io\n",
    "dasea_pkgs_not_in_libio = dasea_names[~dasea_names.isin(nimlib_names)]"
   ]
  }
 ],
 "metadata": {
  "interpreter": {
   "hash": "b0fa6594d8f4cbf19f97940f81e996739fb7646882a419484c72d19e05852a7e"
  },
  "kernelspec": {
   "display_name": "Python 3.9.13 64-bit",
   "language": "python",
   "name": "python3"
  },
  "language_info": {
   "codemirror_mode": {
    "name": "ipython",
    "version": 3
   },
   "file_extension": ".py",
   "mimetype": "text/x-python",
   "name": "python",
   "nbconvert_exporter": "python",
   "pygments_lexer": "ipython3",
   "version": "3.9.13"
  },
  "orig_nbformat": 4
 },
 "nbformat": 4,
 "nbformat_minor": 2
}
