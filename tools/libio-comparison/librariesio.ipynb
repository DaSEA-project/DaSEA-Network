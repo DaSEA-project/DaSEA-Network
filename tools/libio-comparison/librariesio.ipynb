{
 "cells": [
  {
   "cell_type": "code",
   "execution_count": 40,
   "metadata": {},
   "outputs": [],
   "source": [
    "import pandas as pd\n"
   ]
  },
  {
   "cell_type": "code",
   "execution_count": 41,
   "metadata": {},
   "outputs": [],
   "source": [
    "# df = pd.read_csv(\"in/projects-1.6.0-2020-01-12.csv\")\n",
    "# df.groupby('Platform').size().sort_values(ascending=False)\n",
    "# df[df['Platform'] == 'Nimble'].to_csv('in/nimble_libio.csv')\n",
    "\n"
   ]
  },
  {
   "cell_type": "code",
   "execution_count": 42,
   "metadata": {},
   "outputs": [],
   "source": [
    "nim_df = pd.read_csv(\"in/nimble_packages_05-17-2022.csv\")\n",
    "nim_libio_df = pd.read_csv('in/nimble_libio.csv')"
   ]
  },
  {
   "cell_type": "code",
   "execution_count": 43,
   "metadata": {},
   "outputs": [],
   "source": [
    "def to_lower(x):\n",
    "      return x.lower()\n",
    "\n",
    "nimlib_names = nim_libio_df[nim_libio_df['Platform'] == 'Nimble']['Name'].apply(to_lower)\n",
    "dasea_names = nim_df['name'].apply(to_lower)"
   ]
  },
  {
   "cell_type": "code",
   "execution_count": 44,
   "metadata": {},
   "outputs": [
    {
     "data": {
      "text/plain": [
       "13                     chipmunk\n",
       "26                  easy-bcrypt\n",
       "52                  libtcod-nim\n",
       "56                        monad\n",
       "61                       nim-ao\n",
       "63                     nim-glfw\n",
       "64                 nim-libclang\n",
       "65                  nim-nanomsg\n",
       "66                   nim-locale\n",
       "67                      nim-ogg\n",
       "68                nim-portaudio\n",
       "69                  nim-sndfile\n",
       "70                   nim-vorbis\n",
       "74                      nimepak\n",
       "76                    nimlibpng\n",
       "82                   objcbridge\n",
       "122                  nimsuggest\n",
       "153               nim-geocoding\n",
       "159                    nim-heap\n",
       "160     nim-stringinterpolation\n",
       "198                  nanovg.nim\n",
       "212                     vardene\n",
       "235                          ni\n",
       "258                      nimlog\n",
       "309                     nimyaml\n",
       "355                    registry\n",
       "391                       minim\n",
       "392                    bonegpio\n",
       "394                   fractions\n",
       "402                       pudge\n",
       "432               libserialport\n",
       "433                     libspdk\n",
       "442                  websockets\n",
       "449                     storage\n",
       "491                   nimcalcal\n",
       "526                      monero\n",
       "604                      clblas\n",
       "614                      evmjit\n",
       "615               ethereum_trie\n",
       "618                       mpint\n",
       "644                     msqueue\n",
       "659                    morpheus\n",
       "690              websitecreator\n",
       "780                   ec_events\n",
       "781                    nimtorch\n",
       "789              asyncdispatch2\n",
       "921                        oids\n",
       "923                        smtp\n",
       "926                     cookies\n",
       "948                     fancygl\n",
       "951      cyclic-polynomial-hash\n",
       "954                     netpipe\n",
       "968             closure_methods\n",
       "1030                quickjs.nim\n",
       "1055               cirru-parser\n",
       "1194                       saya\n",
       "Name: Name, dtype: object"
      ]
     },
     "execution_count": 44,
     "metadata": {},
     "output_type": "execute_result"
    }
   ],
   "source": [
    "# returns packages that exist in Libraries.io and NOT in DaSEA dataset\n",
    "nimlib_names[~nimlib_names.isin(dasea_names)]"
   ]
  },
  {
   "cell_type": "code",
   "execution_count": 45,
   "metadata": {},
   "outputs": [
    {
     "data": {
      "text/plain": [
       "0       periapsisengine\n",
       "1               niprefs\n",
       "2              lrparser\n",
       "3                py2nim\n",
       "4          rangequeries\n",
       "             ...       \n",
       "1871              blarg\n",
       "1872            limiter\n",
       "1873           supranim\n",
       "1874            leopard\n",
       "1875            emitter\n",
       "Name: name, Length: 734, dtype: object"
      ]
     },
     "execution_count": 45,
     "metadata": {},
     "output_type": "execute_result"
    }
   ],
   "source": [
    "# returns packages that exist in DaSEA dataset and NOT in Libraries.io\n",
    "dasea_names[~dasea_names.isin(nimlib_names)]"
   ]
  }
 ],
 "metadata": {
  "interpreter": {
   "hash": "b0fa6594d8f4cbf19f97940f81e996739fb7646882a419484c72d19e05852a7e"
  },
  "kernelspec": {
   "display_name": "Python 3.9.13 64-bit",
   "language": "python",
   "name": "python3"
  },
  "language_info": {
   "codemirror_mode": {
    "name": "ipython",
    "version": 3
   },
   "file_extension": ".py",
   "mimetype": "text/x-python",
   "name": "python",
   "nbconvert_exporter": "python",
   "pygments_lexer": "ipython3",
   "version": "3.9.13"
  },
  "orig_nbformat": 4
 },
 "nbformat": 4,
 "nbformat_minor": 2
}
