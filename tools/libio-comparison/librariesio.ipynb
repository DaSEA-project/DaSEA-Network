{
 "cells": [
  {
   "cell_type": "code",
   "execution_count": 2,
   "metadata": {},
   "outputs": [],
   "source": [
    "import pandas as pd\n"
   ]
  },
  {
   "cell_type": "code",
   "execution_count": null,
   "metadata": {},
   "outputs": [],
   "source": [
    "df = pd.read_csv(\"in/projects-1.6.0-2020-01-12.csv\")\n",
    "df.groupby('Platform').size().sort_values(ascending=False)\n",
    "df[df['Platform'] == 'Nimble'].to_csv('in/nimble_libio.csv')\n",
    "\n"
   ]
  },
  {
   "cell_type": "code",
   "execution_count": null,
   "metadata": {},
   "outputs": [],
   "source": [
    "nim_df = pd.read_csv(\"in/nimble_packages_05-17-2022.csv\")\n",
    "nim_libio_df = pd.read_csv('in/nimble_libio.csv')"
   ]
  },
  {
   "cell_type": "code",
   "execution_count": null,
   "metadata": {},
   "outputs": [],
   "source": [
    "def to_lower(x):\n",
    "      return x.lower()\n",
    "\n",
    "nimlib_names = nim_libio_df[nim_libio_df['Platform'] == 'Nimble']['Name'].apply(to_lower)\n",
    "dasea_names = nim_df['name'].apply(to_lower)"
   ]
  },
  {
   "cell_type": "code",
   "execution_count": null,
   "metadata": {},
   "outputs": [],
   "source": [
    "len(nim_libio_df)"
   ]
  },
  {
   "cell_type": "code",
   "execution_count": null,
   "metadata": {},
   "outputs": [],
   "source": [
    "len(dasea_names)"
   ]
  },
  {
   "cell_type": "code",
   "execution_count": null,
   "metadata": {},
   "outputs": [],
   "source": [
    "# returns packages that exist in Libraries.io and NOT in DaSEA dataset\n",
    "nimlib_names[~nimlib_names.isin(dasea_names)].sample(20).to_csv('out/val-inlib-not-dasea.csv', index=False)"
   ]
  },
  {
   "cell_type": "code",
   "execution_count": null,
   "metadata": {},
   "outputs": [],
   "source": [
    "len(nimlib_names[~nimlib_names.isin(dasea_names)])"
   ]
  },
  {
   "cell_type": "code",
   "execution_count": null,
   "metadata": {},
   "outputs": [],
   "source": [
    "# returns packages that exist in DaSEA dataset and NOT in Libraries.io\n",
    "dasea_names[~dasea_names.isin(nimlib_names)].sample(20).to_csv('out/val-indasea-not-lib.csv', index=False)"
   ]
  },
  {
   "cell_type": "code",
   "execution_count": null,
   "metadata": {},
   "outputs": [],
   "source": [
    "len(dasea_names[~dasea_names.isin(nimlib_names)])"
   ]
  },
  {
   "cell_type": "code",
   "execution_count": 3,
   "metadata": {},
   "outputs": [
    {
     "name": "stderr",
     "output_type": "stream",
     "text": [
      "c:\\Users\\joaki\\anaconda3\\lib\\site-packages\\IPython\\core\\interactiveshell.py:3444: DtypeWarning: Columns (17) have mixed types.Specify dtype option on import or set low_memory=False.\n",
      "  exec(code_obj, self.user_global_ns, self.user_ns)\n"
     ]
    }
   ],
   "source": [
    "df_cargo = pd.read_csv(\"in/projects-1.6.0-2020-01-12.csv\")\n",
    "df_cargo.groupby('Platform').size().sort_values(ascending=False)\n",
    "df_cargo[df_cargo['Platform'] == 'Cargo'].to_csv('in/cargo_libio.csv')\n",
    "\n"
   ]
  },
  {
   "cell_type": "code",
   "execution_count": 4,
   "metadata": {},
   "outputs": [
    {
     "name": "stderr",
     "output_type": "stream",
     "text": [
      "c:\\Users\\joaki\\anaconda3\\lib\\site-packages\\IPython\\core\\interactiveshell.py:3444: DtypeWarning: Columns (18) have mixed types.Specify dtype option on import or set low_memory=False.\n",
      "  exec(code_obj, self.user_global_ns, self.user_ns)\n"
     ]
    }
   ],
   "source": [
    "cargo_df = pd.read_csv(\"in/cargo_packages_05-17-2022.csv\")\n",
    "cargo_libio_df = pd.read_csv('in/cargo_libio.csv')"
   ]
  },
  {
   "cell_type": "code",
   "execution_count": 5,
   "metadata": {},
   "outputs": [
    {
     "data": {
      "text/plain": [
       "83452"
      ]
     },
     "execution_count": 5,
     "metadata": {},
     "output_type": "execute_result"
    }
   ],
   "source": [
    "len(cargo_df)"
   ]
  },
  {
   "cell_type": "code",
   "execution_count": 6,
   "metadata": {},
   "outputs": [
    {
     "data": {
      "text/plain": [
       "35635"
      ]
     },
     "execution_count": 6,
     "metadata": {},
     "output_type": "execute_result"
    }
   ],
   "source": [
    "len(cargo_libio_df)"
   ]
  },
  {
   "cell_type": "code",
   "execution_count": 7,
   "metadata": {},
   "outputs": [
    {
     "name": "stdout",
     "output_type": "stream",
     "text": [
      "0                 acorn\n",
      "1                     a\n",
      "2                acacia\n",
      "3        abort_on_panic\n",
      "4            adamantium\n",
      "              ...      \n",
      "35630      cargo-parcel\n",
      "35631             pword\n",
      "35632            ranges\n",
      "35633            mdpage\n",
      "35634      python-input\n",
      "Name: Name, Length: 35635, dtype: object\n"
     ]
    }
   ],
   "source": [
    "def to_lower(x):\n",
    "      return x.lower()\n",
    "\n",
    "cargo_names = cargo_libio_df[cargo_libio_df['Platform'] == 'Cargo']['Name'].str.lower()\n",
    "dasea_names_cargo = cargo_df['name'].str.lower()\n",
    "print(cargo_names)"
   ]
  },
  {
   "cell_type": "code",
   "execution_count": null,
   "metadata": {},
   "outputs": [],
   "source": [
    "# returns packages that exist in Libraries.io and NOT in DaSEA dataset\n",
    "cn = cargo_names[~cargo_names.isin(dasea_names_cargo)]\n",
    "cn.sample(20).to_csv('out/val-inlib-not-dasea-cargo.csv', index=False)\n",
    "len(cn)"
   ]
  },
  {
   "cell_type": "code",
   "execution_count": null,
   "metadata": {},
   "outputs": [],
   "source": [
    "# returns packages that exist in DaSEA dataset and NOT in Libraries.io\n",
    "dnc = dasea_names_cargo[~dasea_names_cargo.isin(cargo_names)]\n",
    "dnc.sample(20).to_csv('out/val-indasea-not-lib-cargo.csv',index=False)\n",
    "len(dnc)\n"
   ]
  },
  {
   "cell_type": "code",
   "execution_count": null,
   "metadata": {},
   "outputs": [],
   "source": [
    "df_cloajrs = pd.read_csv(\"in/projects-1.6.0-2020-01-12.csv\")\n",
    "df_cloajrs.groupby('Platform').size().sort_values(ascending=False)\n",
    "df_cloajrs[df_cloajrs['Platform'] == 'Clojars'].to_csv('in/clojars_libio.csv')\n"
   ]
  },
  {
   "cell_type": "code",
   "execution_count": null,
   "metadata": {},
   "outputs": [],
   "source": [
    "cloajrs_df = pd.read_csv(\"in/clojars_packages_05-19-2022.csv\")\n",
    "cloajrs_libio_df = pd.read_csv('in/clojars_libio.csv')"
   ]
  },
  {
   "cell_type": "code",
   "execution_count": null,
   "metadata": {},
   "outputs": [],
   "source": [
    "len(cloajrs_df)"
   ]
  },
  {
   "cell_type": "code",
   "execution_count": null,
   "metadata": {},
   "outputs": [],
   "source": [
    "len(cloajrs_libio_df)"
   ]
  },
  {
   "cell_type": "code",
   "execution_count": null,
   "metadata": {},
   "outputs": [],
   "source": [
    "clojars_names = cloajrs_libio_df[cloajrs_libio_df['Platform'] == 'Clojars']['Name'].str.lower()\n",
    "dasea_names_clojars = cloajrs_df['name'].str.lower()"
   ]
  },
  {
   "cell_type": "code",
   "execution_count": null,
   "metadata": {},
   "outputs": [],
   "source": [
    "# returns packages that exist in Libraries.io and NOT in DaSEA dataset\n",
    "cjn = clojars_names[~clojars_names.isin(dasea_names_clojars)]\n",
    "cjn.sample(20).to_csv('out/val-inlib-not-dasea-clojars.csv', index=False)\n",
    "len(cjn)"
   ]
  },
  {
   "cell_type": "code",
   "execution_count": null,
   "metadata": {},
   "outputs": [],
   "source": [
    "# returns packages that exist in DaSEA dataset and NOT in Libraries.io\n",
    "dnc = dasea_names_clojars[~dasea_names_clojars.isin(clojars_names)]\n",
    "dnc.sample(20).to_csv('out/val-indasea-not-lib-clojars.csv',index=False)\n",
    "len(dnc)\n"
   ]
  },
  {
   "cell_type": "code",
   "execution_count": 6,
   "metadata": {},
   "outputs": [
    {
     "name": "stderr",
     "output_type": "stream",
     "text": [
      "c:\\Users\\joaki\\anaconda3\\lib\\site-packages\\IPython\\core\\interactiveshell.py:3444: DtypeWarning: Columns (17) have mixed types.Specify dtype option on import or set low_memory=False.\n",
      "  exec(code_obj, self.user_global_ns, self.user_ns)\n"
     ]
    }
   ],
   "source": [
    "df_rubygems = pd.read_csv(\"in/projects-1.6.0-2020-01-12.csv\")\n",
    "df_rubygems.groupby('Platform').size().sort_values(ascending=False)\n",
    "df_rubygems[df_rubygems['Platform'] == 'Rubygems'].to_csv('in/rubygems_libio.csv')"
   ]
  },
  {
   "cell_type": "code",
   "execution_count": 7,
   "metadata": {},
   "outputs": [
    {
     "name": "stderr",
     "output_type": "stream",
     "text": [
      "c:\\Users\\joaki\\anaconda3\\lib\\site-packages\\IPython\\core\\interactiveshell.py:3444: DtypeWarning: Columns (18) have mixed types.Specify dtype option on import or set low_memory=False.\n",
      "  exec(code_obj, self.user_global_ns, self.user_ns)\n"
     ]
    }
   ],
   "source": [
    "rubygems_df = pd.read_csv(\"in/rubygems_packages_05-17-2022.csv\")\n",
    "rubygems_libio_df = pd.read_csv('in/rubygems_libio.csv')"
   ]
  },
  {
   "cell_type": "code",
   "execution_count": 8,
   "metadata": {},
   "outputs": [
    {
     "data": {
      "text/plain": [
       "169624"
      ]
     },
     "execution_count": 8,
     "metadata": {},
     "output_type": "execute_result"
    }
   ],
   "source": [
    "len(rubygems_df)"
   ]
  },
  {
   "cell_type": "code",
   "execution_count": 9,
   "metadata": {},
   "outputs": [
    {
     "data": {
      "text/plain": [
       "161608"
      ]
     },
     "execution_count": 9,
     "metadata": {},
     "output_type": "execute_result"
    }
   ],
   "source": [
    "len(rubygems_libio_df)"
   ]
  },
  {
   "cell_type": "code",
   "execution_count": 10,
   "metadata": {},
   "outputs": [],
   "source": [
    "rubygems_names = rubygems_libio_df[rubygems_libio_df['Platform'] == 'Rubygems']['Name'].str.lower()\n",
    "dasea_names_rubygems = rubygems_df['name'].str.lower()"
   ]
  },
  {
   "cell_type": "code",
   "execution_count": 12,
   "metadata": {},
   "outputs": [
    {
     "data": {
      "text/plain": [
       "7203"
      ]
     },
     "execution_count": 12,
     "metadata": {},
     "output_type": "execute_result"
    }
   ],
   "source": [
    "# returns packages that exist in Libraries.io and NOT in DaSEA dataset\n",
    "rg = rubygems_names[~rubygems_names.isin(dasea_names_rubygems)]\n",
    "rg.sample(20).to_csv('out/val-inlib-not-dasea-rubygems.csv', index=False)\n",
    "len(rg)"
   ]
  },
  {
   "cell_type": "code",
   "execution_count": 13,
   "metadata": {},
   "outputs": [
    {
     "data": {
      "text/plain": [
       "15344"
      ]
     },
     "execution_count": 13,
     "metadata": {},
     "output_type": "execute_result"
    }
   ],
   "source": [
    "# returns packages that exist in DaSEA dataset and NOT in Libraries.io\n",
    "drg = dasea_names_rubygems[~dasea_names_rubygems.isin(rubygems_names)]\n",
    "drg.sample(20).to_csv('out/val-indasea-not-lib-rubygems.csv',index=False)\n",
    "len(drg)\n"
   ]
  },
  {
   "cell_type": "code",
   "execution_count": 14,
   "metadata": {},
   "outputs": [
    {
     "name": "stderr",
     "output_type": "stream",
     "text": [
      "c:\\Users\\joaki\\anaconda3\\lib\\site-packages\\IPython\\core\\interactiveshell.py:3444: DtypeWarning: Columns (17) have mixed types.Specify dtype option on import or set low_memory=False.\n",
      "  exec(code_obj, self.user_global_ns, self.user_ns)\n"
     ]
    }
   ],
   "source": [
    "df_homebrew = pd.read_csv(\"in/projects-1.6.0-2020-01-12.csv\")\n",
    "df_homebrew.groupby('Platform').size().sort_values(ascending=False)\n",
    "df_homebrew[df_homebrew['Platform'] == 'Homebrew'].to_csv('in/homebrew_libio.csv')\n"
   ]
  },
  {
   "cell_type": "code",
   "execution_count": 15,
   "metadata": {},
   "outputs": [],
   "source": [
    "homebrew_df = pd.read_csv(\"in/homebrew_packages_05-17-2022.csv\")\n",
    "homebrew_libio_df = pd.read_csv('in/homebrew_libio.csv')"
   ]
  },
  {
   "cell_type": "code",
   "execution_count": 16,
   "metadata": {},
   "outputs": [
    {
     "data": {
      "text/plain": [
       "6070"
      ]
     },
     "execution_count": 16,
     "metadata": {},
     "output_type": "execute_result"
    }
   ],
   "source": [
    "len(homebrew_df)"
   ]
  },
  {
   "cell_type": "code",
   "execution_count": 17,
   "metadata": {},
   "outputs": [
    {
     "data": {
      "text/plain": [
       "4702"
      ]
     },
     "execution_count": 17,
     "metadata": {},
     "output_type": "execute_result"
    }
   ],
   "source": [
    "len(homebrew_libio_df)"
   ]
  },
  {
   "cell_type": "code",
   "execution_count": 25,
   "metadata": {},
   "outputs": [],
   "source": [
    "homebrew_names = homebrew_libio_df[homebrew_libio_df['Platform'] == 'Homebrew']['Name'].str.lower()\n",
    "dasea_names_homebrew = homebrew_df['name'].str.lower()"
   ]
  },
  {
   "cell_type": "code",
   "execution_count": 28,
   "metadata": {},
   "outputs": [
    {
     "data": {
      "text/plain": [
       "1447"
      ]
     },
     "execution_count": 28,
     "metadata": {},
     "output_type": "execute_result"
    }
   ],
   "source": [
    "# returns packages that exist in Libraries.io and NOT in DaSEA dataset\n",
    "hb = homebrew_names[~homebrew_names.isin(dasea_names_homebrew)]\n",
    "hb.sample(20).to_csv('out/val-inlib-not-dasea-homebrew.csv', index=False)\n",
    "len(hb)"
   ]
  },
  {
   "cell_type": "code",
   "execution_count": 30,
   "metadata": {},
   "outputs": [
    {
     "data": {
      "text/plain": [
       "2815"
      ]
     },
     "execution_count": 30,
     "metadata": {},
     "output_type": "execute_result"
    }
   ],
   "source": [
    "# returns packages that exist in DaSEA dataset and NOT in Libraries.io\n",
    "dhb = dasea_names_homebrew[~dasea_names_homebrew.isin(homebrew_names)]\n",
    "dhb.sample(20).to_csv('out/val-indasea-not-lib-homebrew.csv',index=False)\n",
    "len(dhb)\n"
   ]
  },
  {
   "cell_type": "code",
   "execution_count": 37,
   "metadata": {},
   "outputs": [
    {
     "name": "stderr",
     "output_type": "stream",
     "text": [
      "c:\\Users\\joaki\\anaconda3\\lib\\site-packages\\IPython\\core\\interactiveshell.py:3444: DtypeWarning: Columns (17) have mixed types.Specify dtype option on import or set low_memory=False.\n",
      "  exec(code_obj, self.user_global_ns, self.user_ns)\n"
     ]
    }
   ],
   "source": [
    "df_npm = pd.read_csv(\"in/projects-1.6.0-2020-01-12.csv\")\n",
    "df_npm .groupby('Platform').size().sort_values(ascending=False)\n",
    "df_npm [df_npm ['Platform'] == 'NPM'].to_csv('in/npm_libio.csv')\n"
   ]
  },
  {
   "cell_type": "code",
   "execution_count": 38,
   "metadata": {},
   "outputs": [
    {
     "name": "stderr",
     "output_type": "stream",
     "text": [
      "c:\\Users\\joaki\\anaconda3\\lib\\site-packages\\IPython\\core\\interactiveshell.py:3444: DtypeWarning: Columns (18) have mixed types.Specify dtype option on import or set low_memory=False.\n",
      "  exec(code_obj, self.user_global_ns, self.user_ns)\n"
     ]
    }
   ],
   "source": [
    "npm_df = pd.read_csv(\"in/npm_packages_05-17-2022.csv\")\n",
    "npm_libio_df = pd.read_csv('in/npm_libio.csv')"
   ]
  },
  {
   "cell_type": "code",
   "execution_count": 39,
   "metadata": {},
   "outputs": [
    {
     "data": {
      "text/plain": [
       "1972056"
      ]
     },
     "execution_count": 39,
     "metadata": {},
     "output_type": "execute_result"
    }
   ],
   "source": [
    "len(npm_df)"
   ]
  },
  {
   "cell_type": "code",
   "execution_count": 40,
   "metadata": {},
   "outputs": [
    {
     "data": {
      "text/plain": [
       "1275082"
      ]
     },
     "execution_count": 40,
     "metadata": {},
     "output_type": "execute_result"
    }
   ],
   "source": [
    "len(npm_libio_df)"
   ]
  },
  {
   "cell_type": "code",
   "execution_count": 41,
   "metadata": {},
   "outputs": [],
   "source": [
    "npm_names = npm_libio_df[npm_libio_df['Platform'] == 'NPM']['Name'].str.lower()\n",
    "dasea_names_npm = npm_df['name'].str.lower()"
   ]
  },
  {
   "cell_type": "code",
   "execution_count": 42,
   "metadata": {},
   "outputs": [
    {
     "data": {
      "text/plain": [
       "128917"
      ]
     },
     "execution_count": 42,
     "metadata": {},
     "output_type": "execute_result"
    }
   ],
   "source": [
    "# returns packages that exist in Libraries.io and NOT in DaSEA dataset\n",
    "npm = npm_names[~npm_names.isin(dasea_names_npm)]\n",
    "npm.sample(20).to_csv('out/val-inlib-not-dasea-npm.csv', index=False)\n",
    "len(npm)"
   ]
  },
  {
   "cell_type": "code",
   "execution_count": 43,
   "metadata": {},
   "outputs": [
    {
     "data": {
      "text/plain": [
       "826113"
      ]
     },
     "execution_count": 43,
     "metadata": {},
     "output_type": "execute_result"
    }
   ],
   "source": [
    "# returns packages that exist in DaSEA dataset and NOT in Libraries.io\n",
    "dnpm = dasea_names_npm[~dasea_names_npm.isin(npm_names)]\n",
    "dnpm.sample(20).to_csv('out/val-indasea-not-lib-npm.csv',index=False)\n",
    "len(dnpm)\n"
   ]
  }
 ],
 "metadata": {
  "kernelspec": {
   "display_name": "Python 3.9.7 ('base')",
   "language": "python",
   "name": "python3"
  },
  "language_info": {
   "codemirror_mode": {
    "name": "ipython",
    "version": 3
   },
   "file_extension": ".py",
   "mimetype": "text/x-python",
   "name": "python",
   "nbconvert_exporter": "python",
   "pygments_lexer": "ipython3",
   "version": "3.9.7"
  },
  "orig_nbformat": 4,
  "vscode": {
   "interpreter": {
    "hash": "363e5e17394f26523e9503e687d06e4beb3e7aca0283ccb1e19d3f9199e798f2"
   }
  }
 },
 "nbformat": 4,
 "nbformat_minor": 2
}
