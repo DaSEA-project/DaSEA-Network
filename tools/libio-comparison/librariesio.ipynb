{
 "cells": [
  {
   "cell_type": "code",
   "execution_count": 40,
   "metadata": {},
   "outputs": [],
   "source": [
    "import pandas as pd\n"
   ]
  },
  {
   "cell_type": "code",
   "execution_count": 41,
   "metadata": {},
   "outputs": [],
   "source": [
    "# df = pd.read_csv(\"in/projects-1.6.0-2020-01-12.csv\")\n",
    "# df.groupby('Platform').size().sort_values(ascending=False)\n",
    "# df[df['Platform'] == 'Nimble'].to_csv('in/nimble_libio.csv')\n",
    "\n"
   ]
  },
  {
   "cell_type": "code",
   "execution_count": 42,
   "metadata": {},
   "outputs": [],
   "source": [
    "nim_df = pd.read_csv(\"in/nimble_packages_05-17-2022.csv\")\n",
    "nim_libio_df = pd.read_csv('in/nimble_libio.csv')"
   ]
  },
  {
   "cell_type": "code",
   "execution_count": 43,
   "metadata": {},
   "outputs": [],
   "source": [
    "def to_lower(x):\n",
    "      return x.lower()\n",
    "\n",
    "nimlib_names = nim_libio_df[nim_libio_df['Platform'] == 'Nimble']['Name'].apply(to_lower)\n",
    "dasea_names = nim_df['name'].apply(to_lower)"
   ]
  },
  {
   "cell_type": "code",
   "execution_count": 46,
   "metadata": {},
   "outputs": [
    {
     "data": {
      "text/plain": [
       "56"
      ]
     },
     "execution_count": 46,
     "metadata": {},
     "output_type": "execute_result"
    }
   ],
   "source": [
    "# returns packages that exist in Libraries.io and NOT in DaSEA dataset\n",
    "nimlib_names[~nimlib_names.isin(dasea_names)]"
   ]
  },
  {
   "cell_type": "code",
   "execution_count": 45,
   "metadata": {},
   "outputs": [
    {
     "data": {
      "text/plain": [
       "0       periapsisengine\n",
       "1               niprefs\n",
       "2              lrparser\n",
       "3                py2nim\n",
       "4          rangequeries\n",
       "             ...       \n",
       "1871              blarg\n",
       "1872            limiter\n",
       "1873           supranim\n",
       "1874            leopard\n",
       "1875            emitter\n",
       "Name: name, Length: 734, dtype: object"
      ]
     },
     "execution_count": 45,
     "metadata": {},
     "output_type": "execute_result"
    }
   ],
   "source": [
    "# returns packages that exist in DaSEA dataset and NOT in Libraries.io\n",
    "dasea_names[~dasea_names.isin(nimlib_names)]"
   ]
  }
 ],
 "metadata": {
  "interpreter": {
   "hash": "b0fa6594d8f4cbf19f97940f81e996739fb7646882a419484c72d19e05852a7e"
  },
  "kernelspec": {
   "display_name": "Python 3.9.13 64-bit",
   "language": "python",
   "name": "python3"
  },
  "language_info": {
   "codemirror_mode": {
    "name": "ipython",
    "version": 3
   },
   "file_extension": ".py",
   "mimetype": "text/x-python",
   "name": "python",
   "nbconvert_exporter": "python",
   "pygments_lexer": "ipython3",
   "version": "3.9.13"
  },
  "orig_nbformat": 4
 },
 "nbformat": 4,
 "nbformat_minor": 2
}
