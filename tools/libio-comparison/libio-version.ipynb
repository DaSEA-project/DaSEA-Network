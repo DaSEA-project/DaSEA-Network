{
 "cells": [
  {
   "cell_type": "code",
   "execution_count": 4,
   "metadata": {},
   "outputs": [],
   "source": [
    "# Inspiration on reading in Chunks from: https://pythonspeed.com/articles/chunking-pandas/\n",
    "# and https://towardsdatascience.com/why-and-how-to-use-pandas-with-large-data-9594dda2ea4c\n",
    "\n",
    "import pandas as pd\n",
    "\n",
    "FILE_PATH = 'in/versions-1.6.0-2020-01-12.csv'\n",
    "\n",
    "df_chunk = pd.read_csv(FILE_PATH, chunksize=100000) #nrows=2\n",
    "\n",
    "chunk_list = [] \n",
    "\n",
    "\n",
    "def _apply_filer(df, target):\n",
    "    df = df[['Platform','Project Name', 'Number']]\n",
    "    return df[df['Platform'] == target]\n",
    "\n",
    "def chunks_df(platform):\n",
    "    for chunk in df_chunk:  \n",
    "        chunk_filter = _apply_filer(chunk, platform)\n",
    "        chunk_list.append(chunk_filter)\n",
    "        \n",
    "    df_concat = pd.concat(chunk_list)\n",
    "    df_concat.to_csv(f'out/ver-libio-{platform}.csv', index=False)\n",
    "\n",
    "chunks_df('Cargo')\n"
   ]
  },
  {
   "cell_type": "code",
   "execution_count": 7,
   "metadata": {},
   "outputs": [
    {
     "name": "stdout",
     "output_type": "stream",
     "text": [
      "Checking Cargo\n",
      "Total versions DaSEA : 543138, Libraries io: 195011\n"
     ]
    },
    {
     "name": "stderr",
     "output_type": "stream",
     "text": [
      "<ipython-input-7-3d7b3dbda04c>:25: DtypeWarning: Columns (17) have mixed types.Specify dtype option on import or set low_memory=False.\n",
      "  shared_packages = _get_shared_packages_sample(ECOSYS)\n"
     ]
    },
    {
     "name": "stdout",
     "output_type": "stream",
     "text": [
      "DaSEA and Cargo shares 34660\n"
     ]
    },
    {
     "data": {
      "text/plain": [
       "4235788                    fontdue\n",
       "3544907    oasis-game-client-proxy\n",
       "3560446                       wood\n",
       "4598945                    sql-ast\n",
       "124314                 d3d10_1-sys\n",
       "3029762                      widow\n",
       "1221349               simple-error\n",
       "2053889                      munch\n",
       "3473332               snafu-derive\n",
       "1562493                      vikos\n",
       "2331902                   tss-sapi\n",
       "4304724        sky-color-wallpaper\n",
       "2006851               websocket-vi\n",
       "703196                 sodiumoxide\n",
       "730195                    dispatch\n",
       "2587214                 membarrier\n",
       "1760417              string-intern\n",
       "2237055                     extfsm\n",
       "4284838                  dune-full\n",
       "4572429                      rfm69\n",
       "Name: Name, dtype: object"
      ]
     },
     "execution_count": 7,
     "metadata": {},
     "output_type": "execute_result"
    }
   ],
   "source": [
    "import pandas as pd\n",
    "\n",
    "ECOSYS = 'Cargo'\n",
    "print(f\"Checking {ECOSYS}\")\n",
    "\n",
    "def _get_frames(target):\n",
    "    ltarget = target.lower()\n",
    "    df = pd.read_csv(f\"in/{ltarget}_versions_05-17-2022.csv\")\n",
    "    df_libio = pd.read_csv(f'out/ver-libio-{target}.csv')\n",
    "    return df, df_libio\n",
    "\n",
    "df, df_libio = _get_frames(ECOSYS) #Enter case sensitive Libraries io naming\n",
    "print(f\"Total versions DaSEA : {len(df)}, Libraries io: {len(df_libio)}\")\n",
    "\n",
    "# Get packages that we share to only look at those versions\n",
    "def _get_shared_packages_sample(target):\n",
    "    packages_df = pd.read_csv(f'in/{target}_packages_05-17-2022.csv')\n",
    "    packages_libio_df = pd.read_csv('in/projects-1.6.0-2020-01-12.csv')\n",
    "    names_dasea = packages_df['name'].str.lower()\n",
    "    names_libio = packages_libio_df[packages_libio_df['Platform'] == f'{target}']['Name'].str.lower()\n",
    "    res = names_libio[names_libio.isin(names_dasea)]\n",
    "    print(f\"DaSEA and {target} shares {len(res)}\") # Cargo 3.4660 = 35635 - 975 (Correct)\n",
    "    return res\n",
    "\n",
    "shared_packages = _get_shared_packages_sample(ECOSYS)\n"
   ]
  },
  {
   "cell_type": "code",
   "execution_count": 62,
   "metadata": {},
   "outputs": [
    {
     "data": {
      "text/plain": [
       "2987554    ene-core\n",
       "Name: Name, dtype: object"
      ]
     },
     "execution_count": 62,
     "metadata": {},
     "output_type": "execute_result"
    }
   ],
   "source": [
    "# Get one sample package of the packcages shared\n",
    "sample = shared_packages.sample(1)\n",
    "sample"
   ]
  },
  {
   "cell_type": "code",
   "execution_count": 63,
   "metadata": {},
   "outputs": [
    {
     "name": "stdout",
     "output_type": "stream",
     "text": [
      "Package: ene-core\n",
      "Libraries: ['0.0.0']\n",
      "DaSEA: ['0.0.0']\n",
      "\n",
      "Conclusion:\n"
     ]
    }
   ],
   "source": [
    "# Get versions for those packages in Libraries\n",
    "ver_libio = df_libio[df_libio['Project Name'].isin(sample)]\n",
    "ver_libio.to_csv('out/ver_sample_libio.csv', index=False)\n",
    "\n",
    "# Get a list of the unique packages that sample package is dependent on\n",
    "uniq_libio = ver_libio['Project Name'].unique()\n",
    "\n",
    "# For each unique package, get versions\n",
    "for e in uniq_libio:\n",
    "    print(f\"Package: {e}\")\n",
    "    v_df = ver_libio[ver_libio['Project Name'] == f'{e}'].sort_values('Number')\n",
    "    v_lst = v_df['Number'].to_list()\n",
    "    print(f\"Libraries: {v_lst}\")\n",
    "    dasea_v_df = df[df[\"name\"] == f'{e}']['version'].sort_values().to_list()\n",
    "    print(f\"DaSEA: {dasea_v_df}\")\n",
    "    print()\n",
    "    print(\"Conclusion:\")\n",
    "\n",
    "\n"
   ]
  },
  {
   "cell_type": "code",
   "execution_count": null,
   "metadata": {},
   "outputs": [],
   "source": []
  }
 ],
 "metadata": {
  "kernelspec": {
   "display_name": "Python 3.9.13 64-bit (windows store)",
   "language": "python",
   "name": "python3"
  },
  "language_info": {
   "codemirror_mode": {
    "name": "ipython",
    "version": 3
   },
   "file_extension": ".py",
   "mimetype": "text/x-python",
   "name": "python",
   "nbconvert_exporter": "python",
   "pygments_lexer": "ipython3",
   "version": "3.9.13"
  },
  "orig_nbformat": 4,
  "vscode": {
   "interpreter": {
    "hash": "1a0b1d0af6f017ee10c78047a7fa8697892dba340feaf876926930969e5cb860"
   }
  }
 },
 "nbformat": 4,
 "nbformat_minor": 2
}
